{
 "cells": [
  {
   "cell_type": "markdown",
   "id": "210070d2-f645-4c70-92c4-528442ca98c5",
   "metadata": {},
   "source": [
    "# Data Science Tools and Ecosystem"
   ]
  },
  {
   "cell_type": "markdown",
   "id": "ee58e875-7a7a-4bc0-b5f6-2905ee5879b6",
   "metadata": {},
   "source": [
    "# Data Science Tools and Ecosystem are summarized"
   ]
  },
  {
   "cell_type": "markdown",
   "id": "cabcdbc8-f90c-48ba-bc9d-b808b9aadd22",
   "metadata": {},
   "source": [
    "# Datascience languages\n",
    "# Python\n",
    "# R\n",
    "# Julia\n",
    "# SQL"
   ]
  },
  {
   "cell_type": "markdown",
   "id": "94004874-51ca-4001-a53d-98f92ce432c7",
   "metadata": {},
   "source": [
    "# 5 Datascience libraries\n",
    "# SQL\n",
    "# pandas\n",
    "# numpy\n",
    "# scikitlearn\n",
    "# tensor flow\n"
   ]
  },
  {
   "attachments": {},
   "cell_type": "markdown",
   "id": "7f4c4e51-48d9-42e6-949a-7f1e8942948a",
   "metadata": {},
   "source": [
    "# 6 datascience tools\n",
    "#  Anaconda\n",
    "# jupyterlab\n",
    "# jupyter notebook\n",
    "# spyder\n",
    "# R Studio\n",
    "# Apache spark\n"
   ]
  },
  {
   "cell_type": "markdown",
   "id": "36ff5f56-3c85-4823-a5ab-2be3834af24a",
   "metadata": {},
   "source": [
    "# Below are few examples of evaluating arithmetic expressions in python"
   ]
  },
  {
   "cell_type": "code",
   "execution_count": 3,
   "id": "6ed50a41-6e72-4161-855a-d73fa5759bec",
   "metadata": {},
   "outputs": [
    {
     "data": {
      "text/plain": [
       "17"
      ]
     },
     "execution_count": 3,
     "metadata": {},
     "output_type": "execute_result"
    }
   ],
   "source": [
    " # This is a simple arithmetic expression to add and multiply integers\n",
    "(3*4)+5"
   ]
  },
  {
   "cell_type": "code",
   "execution_count": 4,
   "id": "3af30244-a830-4241-9b42-2fdba5fe8183",
   "metadata": {},
   "outputs": [
    {
     "name": "stdout",
     "output_type": "stream",
     "text": [
      "3.3333333333333335\n"
     ]
    }
   ],
   "source": [
    "# Hours to minutes conversion \n",
    "# This will convert 200 minutes to hours by dividing by 60.\n",
    "minutes = 200\n",
    "hours = minutes / 60\n",
    "print(hours)\n"
   ]
  },
  {
   "cell_type": "markdown",
   "id": "e946a491-5163-43e8-bb24-e9f57a8a6b5b",
   "metadata": {},
   "source": [
    "10 Objectives for learning data science\n",
    "Understanding Data Preprocessing Techniques\n",
    "Understanding Data Preprocessing Techniques\n",
    "Mastering Data Visualization Tools and Techniques\n",
    "Exploring Statistical Methods for Data Analysis\n",
    "Building Machine Learning Models from Scratch\n",
    "Learning to Work with Big Data Technologies\n",
    "Understanding the Basics of Neural Networks and Deep Learning\n",
    "Developing Skills in Data Cleaning and Transformation\n",
    "Implementing Model Evaluation and Validation Techniques\n",
    "Gaining Proficiency in SQL for Data Querying\n",
    "Applying Data Science in Real-World Problem SolvingMastering Data Visualization Tools and Techniques\n",
    "Exploring Statistical Methods for Data Analysis\n",
    "Building Machine Learning Models from Scratch\n",
    "Learning to Work with Big Data Technologies\n",
    "Understanding the Basics of Neural Networks and Deep Learning\n",
    "Developing Skills in Data Cleaning and Transformation\n",
    "Implementing Model Evaluation and Validation Techniques\n",
    "Gaining Proficiency in SQL for Data Querying\n",
    "Applying Data Science in Real-World Problem Solving"
   ]
  },
  {
   "cell_type": "markdown",
   "id": "c32d0075-1a6c-4664-856a-5f8c1ac6532a",
   "metadata": {},
   "source": [
    "# Author details\n",
    " Vijay Siva"
   ]
  },
  {
   "cell_type": "code",
   "execution_count": null,
   "id": "9c7f98d6-f44e-4f1c-ab8a-f066af82889e",
   "metadata": {},
   "outputs": [],
   "source": []
  }
 ],
 "metadata": {
  "kernelspec": {
   "display_name": "Python 3 (ipykernel)",
   "language": "python",
   "name": "python3"
  },
  "language_info": {
   "codemirror_mode": {
    "name": "ipython",
    "version": 3
   },
   "file_extension": ".py",
   "mimetype": "text/x-python",
   "name": "python",
   "nbconvert_exporter": "python",
   "pygments_lexer": "ipython3",
   "version": "3.12.8"
  }
 },
 "nbformat": 4,
 "nbformat_minor": 5
}
